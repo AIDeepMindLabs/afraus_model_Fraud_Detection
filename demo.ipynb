{
 "cells": [
  {
   "cell_type": "code",
   "execution_count": 13,
   "metadata": {
    "collapsed": true
   },
   "outputs": [],
   "source": [
    "import pandas as pd\n",
    "import json\n",
    "import numpy as np\n",
    "import datetime\n",
    "import matplotlib.pyplot as plt\n",
    "import matplotlib\n",
    "import math\n",
    "from helper import *"
   ]
  },
  {
   "cell_type": "code",
   "execution_count": 14,
   "metadata": {
    "collapsed": false
   },
   "outputs": [
    {
     "name": "stdout",
     "output_type": "stream",
     "text": [
      "428\n"
     ]
    },
    {
     "data": {
      "text/html": [
       "<div>\n",
       "<table border=\"1\" class=\"dataframe\">\n",
       "  <thead>\n",
       "    <tr style=\"text-align: right;\">\n",
       "      <th></th>\n",
       "      <th>sessionid</th>\n",
       "      <th>accountid</th>\n",
       "      <th>browserdimensions</th>\n",
       "      <th>screendimensions</th>\n",
       "      <th>ip</th>\n",
       "      <th>requesttime</th>\n",
       "      <th>unixtime</th>\n",
       "      <th>accountemaildomain</th>\n",
       "      <th>devicefingerprint</th>\n",
       "      <th>deviceid</th>\n",
       "      <th>...</th>\n",
       "      <th>region</th>\n",
       "      <th>city</th>\n",
       "      <th>score</th>\n",
       "      <th>browserlanguage</th>\n",
       "      <th>browsertimezone</th>\n",
       "      <th>cardtype</th>\n",
       "      <th>paymentmethod</th>\n",
       "      <th>device_pointing_method</th>\n",
       "      <th>cart_info</th>\n",
       "      <th>shipping_info</th>\n",
       "    </tr>\n",
       "  </thead>\n",
       "  <tbody>\n",
       "    <tr>\n",
       "      <th>0</th>\n",
       "      <td>wsc-2rVdbyevQfwRp6U75BD56NY9qq4x</td>\n",
       "      <td>!dlgeroy@gmail.com</td>\n",
       "      <td>1760x960 1745x868</td>\n",
       "      <td>1745x945</td>\n",
       "      <td>47.180.93.154</td>\n",
       "      <td>16-11-07 22:07</td>\n",
       "      <td>1478556458</td>\n",
       "      <td>gmail.com</td>\n",
       "      <td>d1-d3184e026f80ac</td>\n",
       "      <td>wcs-fuGREf1aGtqZiHsh9P21ZQxx</td>\n",
       "      <td>...</td>\n",
       "      <td>California</td>\n",
       "      <td>Los Angeles</td>\n",
       "      <td>0</td>\n",
       "      <td>en-US</td>\n",
       "      <td>480.0</td>\n",
       "      <td>NaN</td>\n",
       "      <td>NaN</td>\n",
       "      <td>mouse</td>\n",
       "      <td>{\"CartProduct\":{\"all\":[{\"productSKU\":\"476058\",...</td>\n",
       "      <td>{\"ShippingAddress\":{\"shippingstate\":\"CA\",\"ship...</td>\n",
       "    </tr>\n",
       "    <tr>\n",
       "      <th>1</th>\n",
       "      <td>wsc-NSVAWFqCGPMH9WcDQyPrRZeeRf4x</td>\n",
       "      <td>$guin@1010internet.com</td>\n",
       "      <td>1316x709 1301x620</td>\n",
       "      <td>1301x693</td>\n",
       "      <td>206.114.35.246</td>\n",
       "      <td>17-01-15 19:22</td>\n",
       "      <td>1484508135</td>\n",
       "      <td>1010internet.com</td>\n",
       "      <td>d1-87517afb7b65cdd5</td>\n",
       "      <td>wcs-dR63GkKgERjYM76noAG3kwxx</td>\n",
       "      <td>...</td>\n",
       "      <td>Michigan</td>\n",
       "      <td>Grand Rapids</td>\n",
       "      <td>0</td>\n",
       "      <td>en-US</td>\n",
       "      <td>300.0</td>\n",
       "      <td>NaN</td>\n",
       "      <td>NaN</td>\n",
       "      <td>mouse</td>\n",
       "      <td>{\"CartProduct\":{\"productSKU\":\"591215\",\"product...</td>\n",
       "      <td>{\"ShippingAddress\":{\"shippingstate\":\"MI\",\"ship...</td>\n",
       "    </tr>\n",
       "    <tr>\n",
       "      <th>2</th>\n",
       "      <td>wsc-4U0D5yRCzZZ1cXamKEuHWhX4KL0x</td>\n",
       "      <td>&amp;amp;amp;atilde;&amp;amp;amp;copy;valsherbrooke</td>\n",
       "      <td>1920x1080 1745x900</td>\n",
       "      <td>1920x1080</td>\n",
       "      <td>184.160.23.102</td>\n",
       "      <td>17-04-06 20:22</td>\n",
       "      <td>1491510169</td>\n",
       "      <td>NaN</td>\n",
       "      <td>d1-2acc077ad66a1f35</td>\n",
       "      <td>wcs-EWxz4CvUTpt5MONhbcnJpAxx</td>\n",
       "      <td>...</td>\n",
       "      <td>Quebec</td>\n",
       "      <td>Montreal</td>\n",
       "      <td>0</td>\n",
       "      <td>fr</td>\n",
       "      <td>300.0</td>\n",
       "      <td>NaN</td>\n",
       "      <td>NaN</td>\n",
       "      <td>mouse</td>\n",
       "      <td>{\"CartProduct\":{\"all\":[{\"productSKU\":\"14336\",\"...</td>\n",
       "      <td>{\"ShippingAddress\":{\"shippingstate\":\"QC\",\"ship...</td>\n",
       "    </tr>\n",
       "    <tr>\n",
       "      <th>3</th>\n",
       "      <td>wsc-N8g5JCerZIejrlKxipgkVWvgqqwx</td>\n",
       "      <td>'adrienne_s@earthlink.net</td>\n",
       "      <td>1550x838 1312x698</td>\n",
       "      <td>1536x824</td>\n",
       "      <td>45.49.248.159</td>\n",
       "      <td>16-10-24 6:41</td>\n",
       "      <td>1477291292</td>\n",
       "      <td>NaN</td>\n",
       "      <td>d1-4d9c5566cbb7b37d</td>\n",
       "      <td>wcs-H9DeRNHcasRTL4KwcS8ajQxx</td>\n",
       "      <td>...</td>\n",
       "      <td>California</td>\n",
       "      <td>Santa Monica</td>\n",
       "      <td>0</td>\n",
       "      <td>en-US</td>\n",
       "      <td>480.0</td>\n",
       "      <td>NaN</td>\n",
       "      <td>NaN</td>\n",
       "      <td>mouse</td>\n",
       "      <td>{\"CartProduct\":{\"all\":[{\"productSKU\":\"108230\",...</td>\n",
       "      <td>{\"ShippingAddress\":{\"shippingstate\":\"CA\",\"ship...</td>\n",
       "    </tr>\n",
       "    <tr>\n",
       "      <th>4</th>\n",
       "      <td>wsc-8zzwFiCPl8ktn1yNsY2D6xqwmkox</td>\n",
       "      <td>*******7489</td>\n",
       "      <td>NaN</td>\n",
       "      <td>NaN</td>\n",
       "      <td>50.92.253.86</td>\n",
       "      <td>16-10-11 17:35</td>\n",
       "      <td>1476207349</td>\n",
       "      <td>NaN</td>\n",
       "      <td>d1-00000000</td>\n",
       "      <td>NaN</td>\n",
       "      <td>...</td>\n",
       "      <td>British Columbia</td>\n",
       "      <td>Kelowna</td>\n",
       "      <td>105</td>\n",
       "      <td>NaN</td>\n",
       "      <td>NaN</td>\n",
       "      <td>NaN</td>\n",
       "      <td>NaN</td>\n",
       "      <td>mouse</td>\n",
       "      <td>{\"CartProduct\":{\"all\":[{\"productSKU\":\"572505\",...</td>\n",
       "      <td>{\"ShippingAddress\":{\"shippingstate\":\"BC\",\"ship...</td>\n",
       "    </tr>\n",
       "  </tbody>\n",
       "</table>\n",
       "<p>5 rows × 32 columns</p>\n",
       "</div>"
      ],
      "text/plain": [
       "                          sessionid  \\\n",
       "0  wsc-2rVdbyevQfwRp6U75BD56NY9qq4x   \n",
       "1  wsc-NSVAWFqCGPMH9WcDQyPrRZeeRf4x   \n",
       "2  wsc-4U0D5yRCzZZ1cXamKEuHWhX4KL0x   \n",
       "3  wsc-N8g5JCerZIejrlKxipgkVWvgqqwx   \n",
       "4  wsc-8zzwFiCPl8ktn1yNsY2D6xqwmkox   \n",
       "\n",
       "                                     accountid   browserdimensions  \\\n",
       "0                           !dlgeroy@gmail.com   1760x960 1745x868   \n",
       "1                       $guin@1010internet.com   1316x709 1301x620   \n",
       "2  &amp;amp;atilde;&amp;amp;copy;valsherbrooke  1920x1080 1745x900   \n",
       "3                    'adrienne_s@earthlink.net   1550x838 1312x698   \n",
       "4                                  *******7489                 NaN   \n",
       "\n",
       "  screendimensions              ip     requesttime    unixtime  \\\n",
       "0         1745x945   47.180.93.154  16-11-07 22:07  1478556458   \n",
       "1         1301x693  206.114.35.246  17-01-15 19:22  1484508135   \n",
       "2        1920x1080  184.160.23.102  17-04-06 20:22  1491510169   \n",
       "3         1536x824   45.49.248.159   16-10-24 6:41  1477291292   \n",
       "4              NaN    50.92.253.86  16-10-11 17:35  1476207349   \n",
       "\n",
       "  accountemaildomain    devicefingerprint                      deviceid  \\\n",
       "0          gmail.com    d1-d3184e026f80ac  wcs-fuGREf1aGtqZiHsh9P21ZQxx   \n",
       "1   1010internet.com  d1-87517afb7b65cdd5  wcs-dR63GkKgERjYM76noAG3kwxx   \n",
       "2                NaN  d1-2acc077ad66a1f35  wcs-EWxz4CvUTpt5MONhbcnJpAxx   \n",
       "3                NaN  d1-4d9c5566cbb7b37d  wcs-H9DeRNHcasRTL4KwcS8ajQxx   \n",
       "4                NaN          d1-00000000                           NaN   \n",
       "\n",
       "                         ...                                    region  \\\n",
       "0                        ...                                California   \n",
       "1                        ...                                  Michigan   \n",
       "2                        ...                                    Quebec   \n",
       "3                        ...                                California   \n",
       "4                        ...                          British Columbia   \n",
       "\n",
       "           city score browserlanguage browsertimezone cardtype paymentmethod  \\\n",
       "0   Los Angeles     0           en-US           480.0      NaN           NaN   \n",
       "1  Grand Rapids     0           en-US           300.0      NaN           NaN   \n",
       "2      Montreal     0              fr           300.0      NaN           NaN   \n",
       "3  Santa Monica     0           en-US           480.0      NaN           NaN   \n",
       "4       Kelowna   105             NaN             NaN      NaN           NaN   \n",
       "\n",
       "  device_pointing_method                                          cart_info  \\\n",
       "0                  mouse  {\"CartProduct\":{\"all\":[{\"productSKU\":\"476058\",...   \n",
       "1                  mouse  {\"CartProduct\":{\"productSKU\":\"591215\",\"product...   \n",
       "2                  mouse  {\"CartProduct\":{\"all\":[{\"productSKU\":\"14336\",\"...   \n",
       "3                  mouse  {\"CartProduct\":{\"all\":[{\"productSKU\":\"108230\",...   \n",
       "4                  mouse  {\"CartProduct\":{\"all\":[{\"productSKU\":\"572505\",...   \n",
       "\n",
       "                                       shipping_info  \n",
       "0  {\"ShippingAddress\":{\"shippingstate\":\"CA\",\"ship...  \n",
       "1  {\"ShippingAddress\":{\"shippingstate\":\"MI\",\"ship...  \n",
       "2  {\"ShippingAddress\":{\"shippingstate\":\"QC\",\"ship...  \n",
       "3  {\"ShippingAddress\":{\"shippingstate\":\"CA\",\"ship...  \n",
       "4  {\"ShippingAddress\":{\"shippingstate\":\"BC\",\"ship...  \n",
       "\n",
       "[5 rows x 32 columns]"
      ]
     },
     "execution_count": 14,
     "metadata": {},
     "output_type": "execute_result"
    }
   ],
   "source": [
    "df = pd.read_csv('data/sample_data_example.csv')\n",
    "print(len(df))\n",
    "df.head()"
   ]
  },
  {
   "cell_type": "code",
   "execution_count": 15,
   "metadata": {
    "collapsed": false
   },
   "outputs": [],
   "source": [
    "amounts= []\n",
    "dates = []\n",
    "for _, transaction in df.iterrows():\n",
    "    if isinstance(get_date(transaction['shipping_info']), str):\n",
    "        srt2date = datetime.datetime.strptime(get_date(transaction['shipping_info']),  '%Y/%m/%d').date()\n",
    "        dates.append(srt2date)\n",
    "        amounts.append(round(get_amount(transaction['cart_info']), 2))"
   ]
  },
  {
   "cell_type": "code",
   "execution_count": 16,
   "metadata": {
    "collapsed": false
   },
   "outputs": [
    {
     "data": {
      "text/plain": [
       "427"
      ]
     },
     "execution_count": 16,
     "metadata": {},
     "output_type": "execute_result"
    }
   ],
   "source": [
    "len(amounts)"
   ]
  },
  {
   "cell_type": "code",
   "execution_count": 17,
   "metadata": {
    "collapsed": false
   },
   "outputs": [
    {
     "data": {
      "text/plain": [
       "427"
      ]
     },
     "execution_count": 17,
     "metadata": {},
     "output_type": "execute_result"
    }
   ],
   "source": [
    "len(dates)"
   ]
  },
  {
   "cell_type": "code",
   "execution_count": 18,
   "metadata": {
    "collapsed": false,
    "scrolled": true
   },
   "outputs": [
    {
     "data": {
      "text/html": [
       "<div>\n",
       "<table border=\"1\" class=\"dataframe\">\n",
       "  <thead>\n",
       "    <tr style=\"text-align: right;\">\n",
       "      <th></th>\n",
       "      <th>date</th>\n",
       "      <th>value</th>\n",
       "    </tr>\n",
       "  </thead>\n",
       "  <tbody>\n",
       "    <tr>\n",
       "      <th>0</th>\n",
       "      <td>2016-11-07</td>\n",
       "      <td>54.99</td>\n",
       "    </tr>\n",
       "    <tr>\n",
       "      <th>1</th>\n",
       "      <td>2017-01-15</td>\n",
       "      <td>71.70</td>\n",
       "    </tr>\n",
       "    <tr>\n",
       "      <th>2</th>\n",
       "      <td>2017-04-06</td>\n",
       "      <td>47.96</td>\n",
       "    </tr>\n",
       "    <tr>\n",
       "      <th>3</th>\n",
       "      <td>2016-10-24</td>\n",
       "      <td>96.99</td>\n",
       "    </tr>\n",
       "    <tr>\n",
       "      <th>4</th>\n",
       "      <td>2016-10-11</td>\n",
       "      <td>53.10</td>\n",
       "    </tr>\n",
       "  </tbody>\n",
       "</table>\n",
       "</div>"
      ],
      "text/plain": [
       "         date  value\n",
       "0  2016-11-07  54.99\n",
       "1  2017-01-15  71.70\n",
       "2  2017-04-06  47.96\n",
       "3  2016-10-24  96.99\n",
       "4  2016-10-11  53.10"
      ]
     },
     "execution_count": 18,
     "metadata": {},
     "output_type": "execute_result"
    }
   ],
   "source": [
    "featuresdf = pd.DataFrame()\n",
    "featuresdf['date'] = [d for d in dates]\n",
    "featuresdf['value'] = amounts\n",
    "featuresdf.head()"
   ]
  },
  {
   "cell_type": "code",
   "execution_count": 23,
   "metadata": {
    "collapsed": false,
    "scrolled": true
   },
   "outputs": [
    {
     "data": {
      "text/plain": [
       "3.51288056206089"
      ]
     },
     "execution_count": 23,
     "metadata": {},
     "output_type": "execute_result"
    }
   ],
   "source": [
    "def control_chart(feature1, feature2, k=1, show=False):\n",
    "    std = np.std(feature1)\n",
    "    m = np.mean(feature1)\n",
    "    \n",
    "    ctrl_stdup = m + (k*std)\n",
    "    ctrl_stddown = m - (k*std)\n",
    "    \n",
    "    out_val=[]\n",
    "    out_dates=[]\n",
    "    \n",
    "    pos_val= []\n",
    "    pos_dates= []\n",
    "    \n",
    "    for i, point in enumerate(feature1):\n",
    "        if point >= ctrl_stdup or point <= ctrl_stddown:\n",
    "            out_val.append(point)\n",
    "            out_dates.append(feature2[i])\n",
    "        else:\n",
    "            pos_val.append(point)\n",
    "            pos_dates.append(feature2[i])\n",
    "    \n",
    "    \n",
    "    score = (len(out_val)/len(feature1))*100\n",
    "    if show:\n",
    "        #show plot\n",
    "        print('the score is: ',score)\n",
    "        if isinstance(out_dates[0], datetime.date):\n",
    "            dates_list = feature2\n",
    "            plot_dates = matplotlib.dates.date2num(dates_list)\n",
    "            plt.plot_date(pos_dates, pos_val, c= 'b')\n",
    "            plt.plot_date(out_dates, out_val, c='r')\n",
    "        else:\n",
    "            plt.plot(pos_dates, pos_val, c= 'b')\n",
    "            plt.plot(out_dates, out_val, c='r')\n",
    "\n",
    "\n",
    "        plt.plot((min(feature2), max(feature2)), (m, m), 'k-')\n",
    "        plt.plot((min(feature2), max(feature2)), (ctrl_stdup, ctrl_stdup), 'k-', c='g')\n",
    "        plt.plot((min(feature2), max(feature2)), (ctrl_stddown, ctrl_stddown), 'k-', c='g')\n",
    "        plt.show()\n",
    "        \n",
    "    return score  \n",
    "\n",
    "control_chart(featuresdf['value'], featuresdf['date'], k=2)"
   ]
  },
  {
   "cell_type": "code",
   "execution_count": 28,
   "metadata": {
    "collapsed": false
   },
   "outputs": [
    {
     "data": {
      "text/plain": [
       "10.070257611241217"
      ]
     },
     "execution_count": 28,
     "metadata": {},
     "output_type": "execute_result"
    }
   ],
   "source": [
    "from sklearn.neighbors import LocalOutlierFactor\n",
    "\n",
    "def lof(feature1 , feature2, show=False, n_neighbors= 15):\n",
    "    # Generate train data\n",
    "    #dates = data['date'].as_matrix()\n",
    "    if isinstance(feature2[0], datetime.date):\n",
    "        dates_dict = {d:i for i,d in enumerate(set(np.sort(dates)))}\n",
    "\n",
    "        date2int = [dates_dict[d] for d in dates]\n",
    "    else:\n",
    "        date2int = feature2\n",
    "    X = list(zip(feature1, date2int))\n",
    "    \n",
    "    # Generate some abnormal novel observations\n",
    "    # fit the model\n",
    "    clf = LocalOutlierFactor(n_neighbors=n_neighbors, algorithm='auto')\n",
    "    y_pred = clf.fit_predict(X)\n",
    "    \n",
    "    out_val=[]\n",
    "    out_dates=[]\n",
    "    \n",
    "    pos_val= []\n",
    "    pos_dates= []\n",
    "    for i, pred in enumerate(y_pred):\n",
    "        if pred == -1:\n",
    "            out_val.append(feature1[i])\n",
    "            out_dates.append(feature2[i])\n",
    "        else:\n",
    "            pos_val.append(feature1[i])\n",
    "            pos_dates.append(feature2[i])\n",
    "\n",
    "    score = (len(out_val)/len(y_pred))*100\n",
    "    \n",
    "    if show:\n",
    "        print('witn a total score of:',score)\n",
    "        if isinstance(out_dates[0], datetime.date):\n",
    "            plt.plot_date(pos_dates, pos_val, c= 'b')\n",
    "            plt.plot_date(out_dates, out_val, c='r')\n",
    "        else:\n",
    "            plt.plot(pos_dates, pos_val, c= 'b')\n",
    "            plt.plot(out_dates, out_val, c='r')\n",
    "        plt.figure(figsize=(500,500))\n",
    "        plt.show()\n",
    "\n",
    "    return score\n",
    "\n",
    "lof(featuresdf['value'], featuresdf['date'])"
   ]
  },
  {
   "cell_type": "code",
   "execution_count": 29,
   "metadata": {
    "collapsed": false
   },
   "outputs": [
    {
     "data": {
      "text/plain": [
       "100.0"
      ]
     },
     "execution_count": 29,
     "metadata": {},
     "output_type": "execute_result"
    }
   ],
   "source": [
    "from collections import Counter\n",
    "def benfords(values, show=False):\n",
    "    \n",
    "    digits=[]\n",
    "    for v in values:\n",
    "        digits.append(int(str(v)[0]))\n",
    "    \n",
    "    d_count= Counter(digits)\n",
    "    num= list(range(1,10))\n",
    "    total_count=[d_count[i] for i in num]\n",
    "    prc=[]\n",
    "    for i in num:\n",
    "        prc.append((d_count[i]/ len(digits))*len(digits))\n",
    "        \n",
    "    benford = [100*math.log10(1 + 1./i) for i in range(1,10)]\n",
    "    \n",
    "    error = abs(np.sum(np.array(benford) - np.array(prc)))\n",
    "\n",
    "    score = (error/sum(benford))*100\n",
    "    \n",
    "    score = (1/(1+np.exp(-score)))*100\n",
    "    \n",
    "    index = np.arange(len(num))\n",
    "    bar_width = 0.35\n",
    "    if show:\n",
    "        print('the total score of benfords is ', score)\n",
    "        plt.bar(index, prc, bar_width, color='b', label='values')\n",
    "        plt.bar(index + bar_width, benford, bar_width, color='r',label='benford')\n",
    "        plt.xticks(index + bar_width / 2, (1,2,3,4,5,6,7,8,9))\n",
    "        plt.show()\n",
    "    \n",
    "    return score\n",
    "\n",
    "benfords(featuresdf['value'])"
   ]
  },
  {
   "cell_type": "code",
   "execution_count": 30,
   "metadata": {
    "collapsed": false
   },
   "outputs": [
    {
     "name": "stdout",
     "output_type": "stream",
     "text": [
      "the total score of benfords is  100.0\n"
     ]
    },
    {
     "data": {
      "image/png": "[encoded data removed]",
      "text/plain": [
       "<matplotlib.figure.Figure at 0x21f88176668>"
      ]
     },
     "metadata": {},
     "output_type": "display_data"
    },
    {
     "name": "stdout",
     "output_type": "stream",
     "text": [
      "witn a total score of: 10.070257611241217\n"
     ]
    },
    {
     "data": {
      "image/png": "[encoded data removed]",
      "text/plain": [
       "<matplotlib.figure.Figure at 0x21f8825cbe0>"
      ]
     },
     "metadata": {},
     "output_type": "display_data"
    },
    {
     "data": {
      "text/plain": [
       "<matplotlib.figure.Figure at 0x21f882b8438>"
      ]
     },
     "metadata": {},
     "output_type": "display_data"
    },
    {
     "name": "stdout",
     "output_type": "stream",
     "text": [
      "the score is:  7.259953161592506\n"
     ]
    },
    {
     "data": {
      "image/png": "[encoded data removed]",
      "text/plain": [
       "<matplotlib.figure.Figure at 0x21f882ae160>"
      ]
     },
     "metadata": {},
     "output_type": "display_data"
    },
    {
     "name": "stdout",
     "output_type": "stream",
     "text": [
      "The total score is:  39.1100702576\n"
     ]
    }
   ],
   "source": [
    "total_score = (benfords(featuresdf['value'], show=True) + lof(featuresdf['value'], featuresdf['date'], show=True) + control_chart(featuresdf['value'], featuresdf['date'], show=True))/3\n",
    "print('The total score is: ', total_score)"
   ]
  },
  {
   "cell_type": "code",
   "execution_count": null,
   "metadata": {
    "collapsed": true
   },
   "outputs": [],
   "source": []
  }
 ],
 "metadata": {
  "kernelspec": {
   "display_name": "Python 3",
   "language": "python",
   "name": "python3"
  },
  "language_info": {
   "codemirror_mode": {
    "name": "ipython",
    "version": 3
   },
   "file_extension": ".py",
   "mimetype": "text/x-python",
   "name": "python",
   "nbconvert_exporter": "python",
   "pygments_lexer": "ipython3",
   "version": "3.5.3"
  }
 },
 "nbformat": 4,
 "nbformat_minor": 2
}
